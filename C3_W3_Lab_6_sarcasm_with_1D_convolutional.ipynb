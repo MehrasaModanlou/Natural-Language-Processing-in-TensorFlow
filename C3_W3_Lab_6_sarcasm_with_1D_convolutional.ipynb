{
  "cells": [
    {
      "cell_type": "markdown",
      "metadata": {
        "id": "N3QSpl_9jlH4"
      },
      "source": [
        "<a href=\"https://colab.research.google.com/github/https-deeplearning-ai/tensorflow-1-public/blob/master/C3/W3/ungraded_labs/C3_W3_Lab_6_sarcasm_with_1D_convolutional.ipynb\" target=\"_parent\"><img src=\"https://colab.research.google.com/assets/colab-badge.svg\" alt=\"Open In Colab\"/></a>"
      ]
    },
    {
      "cell_type": "markdown",
      "metadata": {
        "id": "YEdilk144fzb"
      },
      "source": [
        "# Ungraded Lab: Training a Sarcasm Detection Model using a Convolution Layer\n",
        "\n",
        "You will be doing the same steps here as the previous lab but will be using a convolution layer instead. As usual, try tweaking the parameters and observe how it affects the results.\n"
      ]
    },
    {
      "cell_type": "markdown",
      "metadata": {
        "id": "pmokcpHc5u1R"
      },
      "source": [
        "## Download the Dataset"
      ]
    },
    {
      "cell_type": "code",
      "execution_count": 1,
      "metadata": {
        "id": "dxezdGoV29Yz",
        "colab": {
          "base_uri": "https://localhost:8080/"
        },
        "outputId": "7c6f7ef8-43ed-478f-a419-2aa077d2a3be"
      },
      "outputs": [
        {
          "output_type": "stream",
          "name": "stdout",
          "text": [
            "--2023-08-20 15:40:09--  https://storage.googleapis.com/tensorflow-1-public/course3/sarcasm.json\n",
            "Resolving storage.googleapis.com (storage.googleapis.com)... 173.194.213.128, 173.194.215.128, 173.194.216.128, ...\n",
            "Connecting to storage.googleapis.com (storage.googleapis.com)|173.194.213.128|:443... connected.\n",
            "HTTP request sent, awaiting response... 200 OK\n",
            "Length: 5643545 (5.4M) [application/json]\n",
            "Saving to: ‘sarcasm.json’\n",
            "\n",
            "\rsarcasm.json          0%[                    ]       0  --.-KB/s               \rsarcasm.json        100%[===================>]   5.38M  --.-KB/s    in 0.06s   \n",
            "\n",
            "2023-08-20 15:40:09 (90.8 MB/s) - ‘sarcasm.json’ saved [5643545/5643545]\n",
            "\n"
          ]
        }
      ],
      "source": [
        "# Download the dataset\n",
        "!wget https://storage.googleapis.com/tensorflow-1-public/course3/sarcasm.json"
      ]
    },
    {
      "cell_type": "code",
      "execution_count": 2,
      "metadata": {
        "id": "BTcGA2Po2_nN"
      },
      "outputs": [],
      "source": [
        "import json\n",
        "\n",
        "# Load the JSON file\n",
        "with open(\"./sarcasm.json\", 'r') as f:\n",
        "    datastore = json.load(f)\n",
        "\n",
        "# Initialize the lists\n",
        "sentences = []\n",
        "labels = []\n",
        "\n",
        "# Collect sentences and labels into the lists\n",
        "for item in datastore:\n",
        "    sentences.append(item['headline'])\n",
        "    labels.append(item['is_sarcastic'])"
      ]
    },
    {
      "cell_type": "markdown",
      "metadata": {
        "id": "F2zXSds45s2P"
      },
      "source": [
        "## Split the Dataset"
      ]
    },
    {
      "cell_type": "code",
      "execution_count": 3,
      "metadata": {
        "id": "baDwTn9S3ENB"
      },
      "outputs": [],
      "source": [
        "training_size = 20000\n",
        "\n",
        "# Split the sentences\n",
        "training_sentences = sentences[0:training_size]\n",
        "testing_sentences = sentences[training_size:]\n",
        "\n",
        "# Split the labels\n",
        "training_labels = labels[0:training_size]\n",
        "testing_labels = labels[training_size:]"
      ]
    },
    {
      "cell_type": "markdown",
      "metadata": {
        "id": "NdpLY-or5pTP"
      },
      "source": [
        "## Data preprocessing"
      ]
    },
    {
      "cell_type": "code",
      "execution_count": 4,
      "metadata": {
        "id": "RHjZR4oi3LOq"
      },
      "outputs": [],
      "source": [
        "import numpy as np\n",
        "from tensorflow.keras.preprocessing.text import Tokenizer\n",
        "from tensorflow.keras.preprocessing.sequence import pad_sequences\n",
        "\n",
        "vocab_size = 10000\n",
        "max_length = 120\n",
        "trunc_type='post'\n",
        "padding_type='post'\n",
        "oov_tok = \"<OOV>\"\n",
        "\n",
        "# Initialize the Tokenizer class\n",
        "tokenizer = Tokenizer(num_words=vocab_size, oov_token=oov_tok)\n",
        "\n",
        "# Generate the word index dictionary\n",
        "tokenizer.fit_on_texts(training_sentences)\n",
        "word_index = tokenizer.word_index\n",
        "\n",
        "# Generate and pad the training sequences\n",
        "training_sequences = tokenizer.texts_to_sequences(training_sentences)\n",
        "training_padded = pad_sequences(training_sequences, maxlen=max_length, padding=padding_type, truncating=trunc_type)\n",
        "\n",
        "# Generate and pad the testing sequences\n",
        "testing_sequences = tokenizer.texts_to_sequences(testing_sentences)\n",
        "testing_padded = pad_sequences(testing_sequences, maxlen=max_length, padding=padding_type, truncating=trunc_type)\n",
        "\n",
        "# Convert the labels lists into numpy arrays\n",
        "training_labels = np.array(training_labels)\n",
        "testing_labels = np.array(testing_labels)"
      ]
    },
    {
      "cell_type": "markdown",
      "metadata": {
        "id": "HQBjPv_A5m1x"
      },
      "source": [
        "## Build and Compile the Model"
      ]
    },
    {
      "cell_type": "code",
      "execution_count": 5,
      "metadata": {
        "id": "jGwXGIXvFhXW",
        "colab": {
          "base_uri": "https://localhost:8080/"
        },
        "outputId": "9022da3a-510c-4313-ed03-4206d44b4d32"
      },
      "outputs": [
        {
          "output_type": "stream",
          "name": "stdout",
          "text": [
            "Model: \"sequential\"\n",
            "_________________________________________________________________\n",
            " Layer (type)                Output Shape              Param #   \n",
            "=================================================================\n",
            " embedding (Embedding)       (None, 120, 16)           160000    \n",
            "                                                                 \n",
            " conv1d (Conv1D)             (None, 116, 128)          10368     \n",
            "                                                                 \n",
            " global_max_pooling1d (Globa  (None, 128)              0         \n",
            " lMaxPooling1D)                                                  \n",
            "                                                                 \n",
            " dense (Dense)               (None, 6)                 774       \n",
            "                                                                 \n",
            " dense_1 (Dense)             (None, 1)                 7         \n",
            "                                                                 \n",
            "=================================================================\n",
            "Total params: 171,149\n",
            "Trainable params: 171,149\n",
            "Non-trainable params: 0\n",
            "_________________________________________________________________\n"
          ]
        }
      ],
      "source": [
        "import tensorflow as tf\n",
        "\n",
        "# Parameters\n",
        "embedding_dim = 16\n",
        "filters = 128\n",
        "kernel_size = 5\n",
        "dense_dim = 6\n",
        "\n",
        "# Model Definition with Conv1D\n",
        "model_conv = tf.keras.Sequential([\n",
        "    tf.keras.layers.Embedding(vocab_size, embedding_dim, input_length=max_length),\n",
        "    tf.keras.layers.Conv1D(filters, kernel_size, activation='relu'),\n",
        "    tf.keras.layers.GlobalMaxPooling1D(),\n",
        "    tf.keras.layers.Dense(dense_dim, activation='relu'),\n",
        "    tf.keras.layers.Dense(1, activation='sigmoid')\n",
        "])\n",
        "\n",
        "# Set the training parameters\n",
        "model_conv.compile(loss='binary_crossentropy',optimizer='adam',metrics=['accuracy'])\n",
        "\n",
        "# Print the model summary\n",
        "model_conv.summary()"
      ]
    },
    {
      "cell_type": "markdown",
      "metadata": {
        "id": "PcXC5QG45kM7"
      },
      "source": [
        "## Train the Model"
      ]
    },
    {
      "cell_type": "code",
      "execution_count": 6,
      "metadata": {
        "id": "oB6C55FO3z3q",
        "colab": {
          "base_uri": "https://localhost:8080/"
        },
        "outputId": "361e7a04-746c-4447-c508-d50c86012f5d"
      },
      "outputs": [
        {
          "output_type": "stream",
          "name": "stdout",
          "text": [
            "Epoch 1/10\n",
            "625/625 [==============================] - 24s 35ms/step - loss: 0.4417 - accuracy: 0.7789 - val_loss: 0.3615 - val_accuracy: 0.8398\n",
            "Epoch 2/10\n",
            "625/625 [==============================] - 10s 16ms/step - loss: 0.2226 - accuracy: 0.9111 - val_loss: 0.3616 - val_accuracy: 0.8499\n",
            "Epoch 3/10\n",
            "625/625 [==============================] - 10s 16ms/step - loss: 0.1050 - accuracy: 0.9642 - val_loss: 0.4569 - val_accuracy: 0.8450\n",
            "Epoch 4/10\n",
            "625/625 [==============================] - 11s 18ms/step - loss: 0.0396 - accuracy: 0.9887 - val_loss: 0.5814 - val_accuracy: 0.8371\n",
            "Epoch 5/10\n",
            "625/625 [==============================] - 15s 24ms/step - loss: 0.0141 - accuracy: 0.9965 - val_loss: 0.6895 - val_accuracy: 0.8380\n",
            "Epoch 6/10\n",
            "625/625 [==============================] - 11s 17ms/step - loss: 0.0052 - accuracy: 0.9988 - val_loss: 0.7793 - val_accuracy: 0.8360\n",
            "Epoch 7/10\n",
            "625/625 [==============================] - 11s 17ms/step - loss: 0.0029 - accuracy: 0.9992 - val_loss: 0.8488 - val_accuracy: 0.8368\n",
            "Epoch 8/10\n",
            "625/625 [==============================] - 11s 17ms/step - loss: 0.0016 - accuracy: 0.9997 - val_loss: 0.9155 - val_accuracy: 0.8371\n",
            "Epoch 9/10\n",
            "625/625 [==============================] - 10s 16ms/step - loss: 0.0012 - accuracy: 0.9995 - val_loss: 0.9689 - val_accuracy: 0.8363\n",
            "Epoch 10/10\n",
            "625/625 [==============================] - 10s 17ms/step - loss: 0.0011 - accuracy: 0.9997 - val_loss: 1.0486 - val_accuracy: 0.8302\n"
          ]
        }
      ],
      "source": [
        "NUM_EPOCHS = 10\n",
        "\n",
        "# Train the model\n",
        "history_conv = model_conv.fit(training_padded, training_labels, epochs=NUM_EPOCHS, validation_data=(testing_padded, testing_labels))"
      ]
    },
    {
      "cell_type": "code",
      "execution_count": 7,
      "metadata": {
        "id": "g9DC6dmLF8DC",
        "colab": {
          "base_uri": "https://localhost:8080/",
          "height": 881
        },
        "outputId": "8e50b6dd-bcf7-46da-c4d9-522179b4ea1c"
      },
      "outputs": [
        {
          "output_type": "display_data",
          "data": {
            "text/plain": [
              "<Figure size 640x480 with 1 Axes>"
            ],
            "image/png": "[encoded data removed]"
          },
          "metadata": {}
        },
        {
          "output_type": "display_data",
          "data": {
            "text/plain": [
              "<Figure size 640x480 with 1 Axes>"
            ],
            "image/png": "[encoded data removed]"
          },
          "metadata": {}
        }
      ],
      "source": [
        "import matplotlib.pyplot as plt\n",
        "\n",
        "# Plot Utility\n",
        "def plot_graphs(history, string):\n",
        "  plt.plot(history.history[string])\n",
        "  plt.plot(history.history['val_'+string])\n",
        "  plt.xlabel(\"Epochs\")\n",
        "  plt.ylabel(string)\n",
        "  plt.legend([string, 'val_'+string])\n",
        "  plt.show()\n",
        "\n",
        "# Plot the accuracy and loss history\n",
        "plot_graphs(history_conv, 'accuracy')\n",
        "plot_graphs(history_conv, 'loss')"
      ]
    }
  ],
  "metadata": {
    "colab": {
      "provenance": []
    },
    "kernelspec": {
      "display_name": "Python 3",
      "name": "python3"
    },
    "language_info": {
      "codemirror_mode": {
        "name": "ipython",
        "version": 3
      },
      "file_extension": ".py",
      "mimetype": "text/x-python",
      "name": "python",
      "nbconvert_exporter": "python",
      "pygments_lexer": "ipython3",
      "version": "3.7.4"
    }
  },
  "nbformat": 4,
  "nbformat_minor": 0
}